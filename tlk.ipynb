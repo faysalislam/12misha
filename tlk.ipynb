{
  "nbformat": 4,
  "nbformat_minor": 0,
  "metadata": {
    "colab": {
      "name": "tlk",
      "version": "0.3.2",
      "provenance": [],
      "collapsed_sections": [],
      "include_colab_link": true
    },
    "kernelspec": {
      "name": "python3",
      "display_name": "Python 3"
    },
    "accelerator": "GPU"
  },
  "cells": [
    {
      "cell_type": "markdown",
      "metadata": {
        "id": "view-in-github",
        "colab_type": "text"
      },
      "source": [
        "<a href=\"https://colab.research.google.com/github/faysalislam/12misha/blob/master/tlk.ipynb\" target=\"_parent\"><img src=\"https://colab.research.google.com/assets/colab-badge.svg\" alt=\"Open In Colab\"/></a>"
      ]
    },
    {
      "cell_type": "code",
      "metadata": {
        "id": "gSdV5eKsvmKK",
        "colab_type": "code",
        "outputId": "6e16cbb4-ee03-499c-a1c2-9299374f5b7e",
        "colab": {
          "base_uri": "https://localhost:8080/",
          "height": 54
        }
      },
      "source": [
        "import keras\n",
        "from keras import backend as K\n",
        "from keras.layers.core import Dense, Activation\n",
        "from keras.optimizers import Adam\n",
        "from keras.metrics import categorical_crossentropy\n",
        "from keras.preprocessing.image import ImageDataGenerator\n",
        "from keras.preprocessing import image\n",
        "from keras.models import Model\n",
        "from keras.applications import imagenet_utils\n",
        "from keras.layers import Dense,GlobalAveragePooling2D\n",
        "from keras.applications import MobileNet\n",
        "from keras.applications.mobilenet import preprocess_input\n",
        "import numpy as np\n",
        "from IPython.display import Image\n",
        "from keras.optimizers import Adam"
      ],
      "execution_count": 0,
      "outputs": [
        {
          "output_type": "stream",
          "text": [
            "Using TensorFlow backend.\n"
          ],
          "name": "stderr"
        }
      ]
    },
    {
      "cell_type": "code",
      "metadata": {
        "id": "NrYgbWbAwEm-",
        "colab_type": "code",
        "outputId": "e001cf45-0030-4449-997f-b35d57f60e44",
        "colab": {
          "base_uri": "https://localhost:8080/",
          "height": 337
        }
      },
      "source": [
        "mobile = keras.applications.mobilenet.MobileNet()"
      ],
      "execution_count": 0,
      "outputs": [
        {
          "output_type": "stream",
          "text": [
            "WARNING:tensorflow:From /usr/local/lib/python3.6/dist-packages/keras/backend/tensorflow_backend.py:66: The name tf.get_default_graph is deprecated. Please use tf.compat.v1.get_default_graph instead.\n",
            "\n",
            "WARNING:tensorflow:From /usr/local/lib/python3.6/dist-packages/keras/backend/tensorflow_backend.py:541: The name tf.placeholder is deprecated. Please use tf.compat.v1.placeholder instead.\n",
            "\n",
            "WARNING:tensorflow:From /usr/local/lib/python3.6/dist-packages/keras/backend/tensorflow_backend.py:4432: The name tf.random_uniform is deprecated. Please use tf.random.uniform instead.\n",
            "\n",
            "WARNING:tensorflow:From /usr/local/lib/python3.6/dist-packages/keras/backend/tensorflow_backend.py:190: The name tf.get_default_session is deprecated. Please use tf.compat.v1.get_default_session instead.\n",
            "\n",
            "WARNING:tensorflow:From /usr/local/lib/python3.6/dist-packages/keras/backend/tensorflow_backend.py:197: The name tf.ConfigProto is deprecated. Please use tf.compat.v1.ConfigProto instead.\n",
            "\n",
            "WARNING:tensorflow:From /usr/local/lib/python3.6/dist-packages/keras/backend/tensorflow_backend.py:2041: The name tf.nn.fused_batch_norm is deprecated. Please use tf.compat.v1.nn.fused_batch_norm instead.\n",
            "\n",
            "WARNING:tensorflow:From /usr/local/lib/python3.6/dist-packages/keras/backend/tensorflow_backend.py:3733: calling dropout (from tensorflow.python.ops.nn_ops) with keep_prob is deprecated and will be removed in a future version.\n",
            "Instructions for updating:\n",
            "Please use `rate` instead of `keep_prob`. Rate should be set to `rate = 1 - keep_prob`.\n",
            "Downloading data from https://github.com/fchollet/deep-learning-models/releases/download/v0.6/mobilenet_1_0_224_tf.h5\n",
            "17227776/17225924 [==============================] - 1s 0us/step\n"
          ],
          "name": "stdout"
        }
      ]
    },
    {
      "cell_type": "code",
      "metadata": {
        "id": "-UZTnE0PwMB5",
        "colab_type": "code",
        "colab": {}
      },
      "source": [
        "def prepare_image(file):\n",
        "    img_path = ''\n",
        "    img = image.load_img(img_path + file, target_size=(224, 224))\n",
        "    img_array = image.img_to_array(img)\n",
        "    img_array_expanded_dims = np.expand_dims(img_array, axis=0)\n",
        "    return keras.applications.mobilenet.preprocess_input(img_array_expanded_dims)"
      ],
      "execution_count": 0,
      "outputs": []
    },
    {
      "cell_type": "code",
      "metadata": {
        "id": "2ER3JmLZwZqR",
        "colab_type": "code",
        "outputId": "6c240e52-836c-4a94-eee8-be330dff4e73",
        "colab": {
          "base_uri": "https://localhost:8080/",
          "height": 257
        }
      },
      "source": [
        "Image(filename='1_hYFLVztlCuZgK1pd3cKofw.jpeg')"
      ],
      "execution_count": 0,
      "outputs": [
        {
          "output_type": "execute_result",
          "data": {
            "image/jpeg": "[encoded data removed]",
            "text/plain": [
              "<IPython.core.display.Image object>"
            ]
          },
          "metadata": {
            "tags": []
          },
          "execution_count": 8
        }
      ]
    },
    {
      "cell_type": "code",
      "metadata": {
        "id": "QTLCGN3-GQGR",
        "colab_type": "code",
        "outputId": "7905468c-0020-4b70-e868-2043431dab7a",
        "colab": {
          "base_uri": "https://localhost:8080/",
          "height": 54
        }
      },
      "source": [
        "ls"
      ],
      "execution_count": 0,
      "outputs": [
        {
          "output_type": "stream",
          "text": [
            "1_hYFLVztlCuZgK1pd3cKofw.jpeg  \u001b[0m\u001b[01;34msample_data\u001b[0m/\n"
          ],
          "name": "stdout"
        }
      ]
    },
    {
      "cell_type": "code",
      "metadata": {
        "id": "264OEFRAxHWL",
        "colab_type": "code",
        "colab": {}
      },
      "source": [
        "preprocessed_image = prepare_image('1_hYFLVztlCuZgK1pd3cKofw.jpeg')"
      ],
      "execution_count": 0,
      "outputs": []
    },
    {
      "cell_type": "code",
      "metadata": {
        "id": "OIC7Jp3GxW8l",
        "colab_type": "code",
        "outputId": "4b30dcd3-7fcb-4980-c650-b6ec160a705c",
        "colab": {
          "base_uri": "https://localhost:8080/",
          "height": 160
        }
      },
      "source": [
        "predictions = mobile.predict(preprocessed_image)\n",
        "results = imagenet_utils.decode_predictions(predictions)\n",
        "results"
      ],
      "execution_count": 0,
      "outputs": [
        {
          "output_type": "stream",
          "text": [
            "Downloading data from https://storage.googleapis.com/download.tensorflow.org/data/imagenet_class_index.json\n",
            "40960/35363 [==================================] - 0s 0us/step\n"
          ],
          "name": "stdout"
        },
        {
          "output_type": "execute_result",
          "data": {
            "text/plain": [
              "[[('n01592084', 'chickadee', 0.9979674),\n",
              "  ('n01530575', 'brambling', 0.00090178056),\n",
              "  ('n01601694', 'water_ouzel', 0.00035124228),\n",
              "  ('n01560419', 'bulbul', 0.0002842597),\n",
              "  ('n01824575', 'coucal', 0.0002064648)]]"
            ]
          },
          "metadata": {
            "tags": []
          },
          "execution_count": 11
        }
      ]
    },
    {
      "cell_type": "code",
      "metadata": {
        "id": "XPWl0SC6x-P2",
        "colab_type": "code",
        "outputId": "e719d3b9-6ef0-4bc5-d9d9-556963fa45e9",
        "colab": {
          "base_uri": "https://localhost:8080/",
          "height": 90
        }
      },
      "source": [
        "!pip3 install google_images_download"
      ],
      "execution_count": 0,
      "outputs": [
        {
          "output_type": "stream",
          "text": [
            "Requirement already satisfied: google_images_download in /usr/local/lib/python3.6/dist-packages (2.8.0)\n",
            "Requirement already satisfied: selenium in /usr/local/lib/python3.6/dist-packages (from google_images_download) (3.141.0)\n",
            "Requirement already satisfied: urllib3 in /usr/local/lib/python3.6/dist-packages (from selenium->google_images_download) (1.24.3)\n"
          ],
          "name": "stdout"
        }
      ]
    },
    {
      "cell_type": "code",
      "metadata": {
        "id": "3nBLWC1rna8x",
        "colab_type": "code",
        "outputId": "1f79ed4e-8fd2-4325-80c5-1bfe35dac11d",
        "colab": {
          "base_uri": "https://localhost:8080/",
          "height": 1000
        }
      },
      "source": [
        "from google_images_download import google_images_download\n",
        "response = google_images_download.googleimagesdownload()\n",
        "arguments = {\"keywords\":\"blue tit\",\"limit\":100,\"print_urls\":False,\"format\":\"jpg\", \"size\":\">400*300\"}\n",
        "paths = response.download(arguments)\n",
        "arguments = {\"keywords\":\"crow\",\"limit\":100,\"print_urls\":False, \"format\":\"jpg\", \"size\":\">400*300\"}\n",
        "paths = response.download(arguments)"
      ],
      "execution_count": 0,
      "outputs": [
        {
          "output_type": "stream",
          "text": [
            "\n",
            "Item no.: 1 --> Item name = blue tit\n",
            "Evaluating...\n",
            "Starting Download...\n",
            "Completed Image ====> 1.Eurasian_blue_tit_Lancashire.jpg\n",
            "Completed Image ====> 2.21-facts-on-blue-tit-i1.jpg\n",
            "Completed Image ====> 3.blue-tit_adult_1200x675.jpg\n",
            "Completed Image ====> 4.Bluetit%20%C2%A9%20Dave%20Kilbey.jpg\n",
            "Wrong image format returned. Skipping...\n",
            "Completed Image ====> 5.blue_tit.jpg\n",
            "Completed Image ====> 6.2019-02-13_wex_47937837_I1.JPG\n",
            "URLError on an image...trying next one... Error: <urlopen error [SSL: CERTIFICATE_VERIFY_FAILED] certificate verify failed (_ssl.c:852)>\n",
            "Completed Image ====> 7.Blue-tit-in-the-rain.jpg\n",
            "Completed Image ====> 8.tit-909894.jpg\n",
            "Completed Image ====> 9.bluetit768.jpg\n",
            "Completed Image ====> 10.blue-tit.jpg\n",
            "Completed Image ====> 11.Blue_tit_looking_smart-min_1.jpg\n",
            "Completed Image ====> 12.blue_tit_1.jpg\n",
            "Completed Image ====> 13.blue-tit-wtml-louis-cardin.jpg\n",
            "Completed Image ====> 14.blue-tit_juvenile_1200x675.jpg\n",
            "Wrong image format returned. Skipping...\n",
            "Completed Image ====> 15.Blue-Tit-image.jpg\n",
            "Completed Image ====> 16.1070042-blue-tit-crop.jpg\n",
            "Completed Image ====> 17.fa52d54c9cc105d6b476-featuredImage.jpg\n",
            "Completed Image ====> 18.Blue-Tit.jpg\n",
            "Completed Image ====> 19.blue+tit.jpg\n",
            "Completed Image ====> 20.Birds-and-Bees_1569.jpg\n",
            "Completed Image ====> 21.555x555_0017_bluetit.jpg\n",
            "Completed Image ====> 22.Blue%20tit%203.JPG\n",
            "Completed Image ====> 23.BlueTit-D0104.jpg\n",
            "Wrong image format returned. Skipping...\n",
            "Completed Image ====> 24.01-Paul-Sutton-Blue-Tit-2.jpg\n",
            "Completed Image ====> 25.img_8184.jpg\n",
            "Completed Image ====> 26.blue-tit-5.jpg\n",
            "Completed Image ====> 27.21-facts-on-blue-tit-i2.jpg\n",
            "Completed Image ====> 28.blue-tit-1_robert_canis.jpg\n",
            "Completed Image ====> 29.ParusCaeruleus.jpg\n",
            "Completed Image ====> 30.pimpelmeesm-442x315.jpg\n",
            "Wrong image format returned. Skipping...\n",
            "Wrong image format returned. Skipping...\n",
            "Completed Image ====> 31.blue-tit-front-on-r-norton-wtml.jpg\n",
            "Completed Image ====> 32.1040833.jpg\n",
            "Completed Image ====> 33.g2d5wdj8-1354248382.jpg\n",
            "Completed Image ====> 34.3a4b262ea30c6b91ea5b5ca642015bb3.jpg\n",
            "Completed Image ====> 35.blue_tit_5.jpg\n",
            "Completed Image ====> 36.BlueTit.jpg\n",
            "Completed Image ====> 37.blue-tit-lisa-lloyd.jpg\n",
            "Completed Image ====> 38.BlueTit2.jpg\n",
            "Wrong image format returned. Skipping...\n",
            "Completed Image ====> 39.874-3_1024x1024@2x.jpg\n",
            "Completed Image ====> 40.blue-tit-side-on-d-johnson-wtml.jpg\n",
            "Completed Image ====> 41.1280px-Young_Blue_Tit_(29093148486)_Morffewew.jpg\n",
            "Completed Image ====> 42.article-0-1205D523000005DC-402_308x185.jpg\n",
            "Completed Image ====> 43.hqdefault.jpg\n",
            "Completed Image ====> 44.25927759066_e2b97e8fda_b.jpg\n",
            "Completed Image ====> 45.Stunned-Blue-Tit.jpg\n",
            "Completed Image ====> 46.946a0beeef970a7c4ebc7f774e96d904.jpg\n",
            "Completed Image ====> 47.p01ngyv4.jpg\n",
            "Completed Image ====> 48.blue-tit-smaller-1024x821.jpg\n",
            "Completed Image ====> 49.2376101-bigthumbnail.jpg\n",
            "Completed Image ====> 50.maxresdefault.jpg\n",
            "Completed Image ====> 51.Leucistic-Tit.jpg\n",
            "Completed Image ====> 52.british-garden-birds-tit-family-53c2eb09c22cb.jpg\n",
            "Completed Image ====> 53.1bluetit2012b.jpg\n",
            "Completed Image ====> 54.86a38488-d12c-4486-915d-a548ca6627d3.jpg\n",
            "Completed Image ====> 55.35543476106_7a596861b8_b.jpg\n",
            "Completed Image ====> 56._106788277_mediaitem106786742.jpg\n",
            "Completed Image ====> 57.008-1-Blue-Tit,medium.2x.1556718660.jpg\n",
            "Completed Image ====> 58.515658_adcfde392a776c689d0a0deb0f14244f_large.jpg\n",
            "Completed Image ====> 59.Blue%20Tit%2088%20cpt%20Bob%20Coyle.jpg\n",
            "Completed Image ====> 60.blue-tit.jpg\n",
            "Completed Image ====> 61.P7031255-758x530.jpg\n",
            "Completed Image ====> 62.000110-blue-tit-edmund-fellowes.jpg\n",
            "Completed Image ====> 63.Albino%20blue%20tit.jpg\n",
            "Completed Image ====> 64.3web.jpg\n",
            "Wrong image format returned. Skipping...\n",
            "Completed Image ====> 65.image355.jpg\n",
            "Completed Image ====> 66.AH5W1508a1.jpg\n",
            "Completed Image ====> 67.femaleblueti.jpg\n",
            "Completed Image ====> 68.TOFIN31-LA-Blue-Tit-finger-puppet_20x20.jpg\n",
            "Completed Image ====> 69.874-1_1024x1024@2x.jpg\n",
            "Completed Image ====> 70.17924-Blue-tit-alighting-sequence.jpg\n",
            "Completed Image ====> 71.Blue-Tit-Small-Bird-Songbird-Foraging-Garden-Bird-3870309.jpg\n",
            "Completed Image ====> 72.Blue-tit.jpg\n",
            "Completed Image ====> 73.african_blue_tit_2.jpg\n",
            "Completed Image ====> 74.17070187-origpic-88a26e.jpg\n",
            "Completed Image ====> 75.Blue-tit-1196903.jpg\n",
            "Completed Image ====> 76.pimpelmees1.jpg\n",
            "Completed Image ====> 77.Bluetit-square.jpg\n",
            "Completed Image ====> 78.animal-world-3583372_960_720.jpg\n",
            "Completed Image ====> 79.F5A0494.jpg\n",
            "Completed Image ====> 80.Blue-tit-%C2%A9-Richard-Hebb.jpg\n",
            "Completed Image ====> 81.93617199-eurasian-blue-tit-in-its-natural-habitat.jpg\n",
            "Completed Image ====> 82.17ba4b04-6d75-460d-a431-546b0d24c174.jpg\n",
            "Completed Image ====> 83.cute-little-colorful-blue-tit-260nw-1445531276.jpg\n",
            "Completed Image ====> 84.161012-blue-tit-2-e1479038251209.jpg\n",
            "Completed Image ====> 85.20180306_133325_resized.jpg\n",
            "Completed Image ====> 86.bt.jpg\n",
            "Completed Image ====> 87.GettyImages-553151675-319c6c0.jpg\n",
            "Completed Image ====> 88.gafmx24nwpz21.jpg\n",
            "Completed Image ====> 89.Blue-Tit-image-by-Harris-Digital-Productions-1000x680.jpg\n",
            "Completed Image ====> 90.BLUE-TIT-10.2.16-9-of-12.jpg\n",
            "Completed Image ====> 91.m4ttikus-blue-tit-puffed.jpg\n",
            "Completed Image ====> 92.42618112102_cbb1c7efcc_b.jpg\n",
            "\n",
            "\n",
            "Unfortunately all 100 could not be downloaded because some images were not downloadable. 92 is all we got for this search filter!\n",
            "\n",
            "Errors: 8\n",
            "\n",
            "\n",
            "Item no.: 1 --> Item name = crow\n",
            "Evaluating...\n",
            "Starting Download...\n",
            "Completed Image ====> 1.Corvus_corone_-near_Canford_Cliffs%2C_Poole%2C_England-8.jpg\n",
            "Completed Image ====> 2.59858041-480px.jpg\n",
            "Wrong image format returned. Skipping...\n",
            "Completed Image ====> 3.59858031-480px.jpg\n",
            "Completed Image ====> 4.dsc_1028.jpg\n",
            "Completed Image ====> 5.Fish_Crow_RWSinclair_FlickrCC_314.jpg\n",
            "Completed Image ====> 6.504722-istock-596055082.jpg\n",
            "Completed Image ====> 7.15352222_web1_Mabel-Dec-19-18.jpg\n",
            "Completed Image ====> 8.American-Crow2_cuatrok77_flickr_Web.jpg\n",
            "Completed Image ====> 9.5900070063_931f05fdb9_b.jpg\n",
            "Completed Image ====> 10.AmericanCrow.jpg\n",
            "Completed Image ====> 11.20TB-CROWS-articleLarge-v2.jpg\n",
            "Wrong image format returned. Skipping...\n",
            "Completed Image ====> 12.Corvus_coronoides_-_Doughboy_Head.jpg\n",
            "Completed Image ====> 13.a1_4202_1_fish-crow_alejandra_lewandowski_kk.jpg\n",
            "Wrong image format returned. Skipping...\n",
            "Completed Image ====> 14.AmericanCrow_PaulPowers_500px.jpg\n",
            "Completed Image ====> 15.Sharma_AMCR.jpg\n",
            "Completed Image ====> 16.RavenCrow-Main-1280x600.jpg\n",
            "Completed Image ====> 17.crow-in-field.jpg\n",
            "Completed Image ====> 18.In-crow-raven-conflict-crows-are-almost-always-the-aggressor-1024x510.jpg\n",
            "Wrong image format returned. Skipping...\n",
            "Wrong image format returned. Skipping...\n",
            "Completed Image ====> 19.2CB7FC82-96AD-4536-B81ADD1C352A0370_source.jpg\n",
            "Completed Image ====> 20.american-crow_thumb.JPG\n",
            "Completed Image ====> 21.crows1.JPG\n",
            "Completed Image ====> 22.crows-ravens.jpg\n",
            "Completed Image ====> 23._99701258_caledoniancrow.jpg\n",
            "Wrong image format returned. Skipping...\n",
            "Completed Image ====> 24.House-Crow444.jpg\n",
            "Completed Image ====> 25.10022222_H11703043-600x657.jpg\n",
            "Completed Image ====> 26.crow.jpg\n",
            "IOError on an image...trying next one... Error: The read operation timed out\n",
            "Completed Image ====> 27.cbzosgavs2fk9kdouljc.jpg\n",
            "Wrong image format returned. Skipping...\n",
            "Completed Image ====> 28.426323-480px.jpg\n",
            "Completed Image ====> 29.8634_bb57db42f77807a9c5823bd8c2d9aaef.jpg\n",
            "Completed Image ====> 30.crow-2843316_1920-e1528924370852.jpg\n",
            "Completed Image ====> 31.PqHzRT5FnGPSoEUMfmGSWH.jpg\n",
            "Completed Image ====> 32.web_americancrow_10-26-2015-046-adult.jpg\n",
            "Completed Image ====> 33._96723054_0d6ac4ea-ab1b-4700-ada9-4632cbea4908.jpg\n",
            "Completed Image ====> 34.crow_ElangovanS_623-b3f08f0.jpg\n",
            "Completed Image ====> 35.crow.jpg\n",
            "Completed Image ====> 36.crow_with_crab_cropped.jpg\n",
            "Completed Image ====> 37.01ZIMMER-articleLarge.jpg\n",
            "Completed Image ====> 38.6543952555_b4cd4d975c_b.jpg\n",
            "Completed Image ====> 39.920x920.jpg\n",
            "Completed Image ====> 40.2-newcaledonia.jpg\n",
            "Completed Image ====> 41.american-crow-5a44244c845b3400379b0163.jpg\n",
            "Completed Image ====> 42.tawny-eagle-and-cape-crow.jpg\n",
            "Completed Image ====> 43.GettyImages-925504336.jpg\n",
            "Completed Image ====> 44.2018-Crow-American-Edgar-by-Heidi-004-1024x683.jpg\n",
            "Completed Image ====> 45.Crow-and-tool-2.jpg\n",
            "Completed Image ====> 46.bd-corbeaux-ramasse-dechet_2_photo-6.jpg\n",
            "Completed Image ====> 47.8cd51f_f0ff1bb9d82b48ba9c8f770c033e23e6~mv2.jpg\n",
            "Completed Image ====> 48.Carrion-crow-Corvus-corone.jpg\n",
            "Completed Image ====> 49.crow-netherlands-innovative-start-up.jpg\n",
            "Completed Image ====> 50.Carrion-Crow-by-Geoff-Whalan.jpg\n",
            "Completed Image ====> 51.GettyImages-571342903-5a495f2d482c52003608a6d3.jpg\n",
            "Completed Image ====> 52.Crow_Funerals-24a8e.jpg\n",
            "Completed Image ====> 53.crow.jpg\n",
            "Wrong image format returned. Skipping...\n",
            "Completed Image ====> 54.chh5wkbjcrm3lw2yunar.jpg\n",
            "Completed Image ====> 55.Mezzanine_230-1200x675.jpg\n",
            "Completed Image ====> 56.dsc_1944.jpg\n",
            "Completed Image ====> 57.5d1286992516e958277fdd60-750-563.jpg\n",
            "Completed Image ====> 58.birdorbunny.jpg\n",
            "Completed Image ====> 59.gettyimages-557394757.jpg\n",
            "Completed Image ====> 60.Crow-2-650x425.jpg\n",
            "Completed Image ====> 61.51M4xlr6C4L._SX425_.jpg\n",
            "Completed Image ====> 62.crowsconscio.jpg\n",
            "Completed Image ====> 63.crow+1.jpg\n",
            "Completed Image ====> 64.bird-barrier-how-to-get-rid-of-crows-2.jpg\n",
            "Completed Image ====> 65.bird-crow.jpg\n",
            "Completed Image ====> 66.2710851-1600x1063.jpg\n",
            "Completed Image ====> 67.Mr_Pants_crop_large.jpg\n",
            "Completed Image ====> 68.W7I6418-001.jpg\n",
            "Completed Image ====> 69.crow-1.jpg\n",
            "Completed Image ====> 70.stock-photo-a-black-american-crow-corvus-brachyrhynchos-eating-bread-in-a-birdbath-256465318-1920x1316.jpg\n",
            "Completed Image ====> 71.Australian-raven-crow.jpg\n",
            "Completed Image ====> 72.12227703_web1_crowattack3.jpg\n",
            "Completed Image ====> 73.shutterstock-593418365.jpg\n",
            "Completed Image ====> 74.cmaciejolszewski-shutterstock-turkey-crow-2.jpg\n",
            "Completed Image ====> 75.maxresdefault.jpg\n",
            "Completed Image ====> 76.KS_blueeye.jpg\n",
            "Wrong image format returned. Skipping...\n",
            "Completed Image ====> 77.American-crow.jpg\n",
            "Completed Image ====> 78.maxresdefault.jpg\n",
            "Completed Image ====> 79.crow-Jones.jpg\n",
            "Completed Image ====> 80.hooded-crow-strut_600.jpg\n",
            "Completed Image ====> 81.47940703622_077e88602a_o.jpg\n",
            "Completed Image ====> 82.14477620_f520.jpg\n",
            "Wrong image format returned. Skipping...\n",
            "Wrong image format returned. Skipping...\n",
            "Completed Image ====> 83.w1_crow_raven_copy.jpg\n",
            "Completed Image ====> 84.corbeau-pose-de-chet-dans-double-tiroir_photo-4a_wide-fd7f49ab0921c90eb581d670af94c4a20244ac35-s800-c85.jpg\n",
            "Completed Image ====> 85.qFEXmgjSs9WyuF55LLvA6H-1200-80.jpg\n",
            "Wrong image format returned. Skipping...\n",
            "Completed Image ====> 86.banded_at_fill.jpg\n",
            "Completed Image ====> 87.17101976_web1_190706-AUB-crow.jpg\n",
            "\n",
            "\n",
            "Unfortunately all 100 could not be downloaded because some images were not downloadable. 87 is all we got for this search filter!\n",
            "\n",
            "Errors: 13\n",
            "\n"
          ],
          "name": "stdout"
        }
      ]
    },
    {
      "cell_type": "code",
      "metadata": {
        "id": "5rX7pIENzlTO",
        "colab_type": "code",
        "outputId": "c8aacb0e-e361-490b-f312-669f00b4e757",
        "colab": {
          "base_uri": "https://localhost:8080/",
          "height": 107
        }
      },
      "source": [
        "base_model=MobileNet(weights='imagenet',include_top=False)"
      ],
      "execution_count": 0,
      "outputs": [
        {
          "output_type": "stream",
          "text": [
            "/usr/local/lib/python3.6/dist-packages/keras_applications/mobilenet.py:207: UserWarning: `input_shape` is undefined or non-square, or `rows` is not in [128, 160, 192, 224]. Weights for input shape (224, 224) will be loaded as the default.\n",
            "  warnings.warn('`input_shape` is undefined or non-square, '\n"
          ],
          "name": "stderr"
        },
        {
          "output_type": "stream",
          "text": [
            "Downloading data from https://github.com/fchollet/deep-learning-models/releases/download/v0.6/mobilenet_1_0_224_tf_no_top.h5\n",
            "17227776/17225924 [==============================] - 1s 0us/step\n"
          ],
          "name": "stdout"
        }
      ]
    },
    {
      "cell_type": "code",
      "metadata": {
        "id": "fHxoWBMLz6Vl",
        "colab_type": "code",
        "colab": {}
      },
      "source": [
        "x=base_model.output\n",
        "x=GlobalAveragePooling2D()(x)\n",
        "x=Dense(1024,activation='relu')(x) #we add dense layers so that the model can learn more complex functions and classify for better results.\n",
        "x=Dense(1024,activation='relu')(x) #dense layer 2\n",
        "x=Dense(512,activation='relu')(x) #dense layer 3\n",
        "preds=Dense(2,activation='softmax')(x)"
      ],
      "execution_count": 0,
      "outputs": []
    },
    {
      "cell_type": "code",
      "metadata": {
        "id": "AEFfDcYh0iys",
        "colab_type": "code",
        "colab": {}
      },
      "source": [
        "model=Model(inputs=base_model.input,outputs=preds)"
      ],
      "execution_count": 0,
      "outputs": []
    },
    {
      "cell_type": "code",
      "metadata": {
        "id": "vEKeNS-P2XuM",
        "colab_type": "code",
        "outputId": "ad4d1e78-f4e2-4963-ac61-af4dda028e95",
        "colab": {
          "base_uri": "https://localhost:8080/",
          "height": 1000
        }
      },
      "source": [
        "for i,layer in enumerate(model.layers):\n",
        "  print(i,layer.name)"
      ],
      "execution_count": 0,
      "outputs": [
        {
          "output_type": "stream",
          "text": [
            "0 input_2\n",
            "1 conv1_pad\n",
            "2 conv1\n",
            "3 conv1_bn\n",
            "4 conv1_relu\n",
            "5 conv_dw_1\n",
            "6 conv_dw_1_bn\n",
            "7 conv_dw_1_relu\n",
            "8 conv_pw_1\n",
            "9 conv_pw_1_bn\n",
            "10 conv_pw_1_relu\n",
            "11 conv_pad_2\n",
            "12 conv_dw_2\n",
            "13 conv_dw_2_bn\n",
            "14 conv_dw_2_relu\n",
            "15 conv_pw_2\n",
            "16 conv_pw_2_bn\n",
            "17 conv_pw_2_relu\n",
            "18 conv_dw_3\n",
            "19 conv_dw_3_bn\n",
            "20 conv_dw_3_relu\n",
            "21 conv_pw_3\n",
            "22 conv_pw_3_bn\n",
            "23 conv_pw_3_relu\n",
            "24 conv_pad_4\n",
            "25 conv_dw_4\n",
            "26 conv_dw_4_bn\n",
            "27 conv_dw_4_relu\n",
            "28 conv_pw_4\n",
            "29 conv_pw_4_bn\n",
            "30 conv_pw_4_relu\n",
            "31 conv_dw_5\n",
            "32 conv_dw_5_bn\n",
            "33 conv_dw_5_relu\n",
            "34 conv_pw_5\n",
            "35 conv_pw_5_bn\n",
            "36 conv_pw_5_relu\n",
            "37 conv_pad_6\n",
            "38 conv_dw_6\n",
            "39 conv_dw_6_bn\n",
            "40 conv_dw_6_relu\n",
            "41 conv_pw_6\n",
            "42 conv_pw_6_bn\n",
            "43 conv_pw_6_relu\n",
            "44 conv_dw_7\n",
            "45 conv_dw_7_bn\n",
            "46 conv_dw_7_relu\n",
            "47 conv_pw_7\n",
            "48 conv_pw_7_bn\n",
            "49 conv_pw_7_relu\n",
            "50 conv_dw_8\n",
            "51 conv_dw_8_bn\n",
            "52 conv_dw_8_relu\n",
            "53 conv_pw_8\n",
            "54 conv_pw_8_bn\n",
            "55 conv_pw_8_relu\n",
            "56 conv_dw_9\n",
            "57 conv_dw_9_bn\n",
            "58 conv_dw_9_relu\n",
            "59 conv_pw_9\n",
            "60 conv_pw_9_bn\n",
            "61 conv_pw_9_relu\n",
            "62 conv_dw_10\n",
            "63 conv_dw_10_bn\n",
            "64 conv_dw_10_relu\n",
            "65 conv_pw_10\n",
            "66 conv_pw_10_bn\n",
            "67 conv_pw_10_relu\n",
            "68 conv_dw_11\n",
            "69 conv_dw_11_bn\n",
            "70 conv_dw_11_relu\n",
            "71 conv_pw_11\n",
            "72 conv_pw_11_bn\n",
            "73 conv_pw_11_relu\n",
            "74 conv_pad_12\n",
            "75 conv_dw_12\n",
            "76 conv_dw_12_bn\n",
            "77 conv_dw_12_relu\n",
            "78 conv_pw_12\n",
            "79 conv_pw_12_bn\n",
            "80 conv_pw_12_relu\n",
            "81 conv_dw_13\n",
            "82 conv_dw_13_bn\n",
            "83 conv_dw_13_relu\n",
            "84 conv_pw_13\n",
            "85 conv_pw_13_bn\n",
            "86 conv_pw_13_relu\n",
            "87 global_average_pooling2d_2\n",
            "88 dense_1\n",
            "89 dense_2\n",
            "90 dense_3\n",
            "91 dense_4\n"
          ],
          "name": "stdout"
        }
      ]
    },
    {
      "cell_type": "code",
      "metadata": {
        "id": "64SjbYzg2ff2",
        "colab_type": "code",
        "colab": {}
      },
      "source": [
        "for layer in model.layers:\n",
        "    layer.trainable=False\n",
        "# or if we want to set the first 20 layers of the network to be non-trainable\n",
        "for layer in model.layers[:20]:\n",
        "    layer.trainable=False\n",
        "for layer in model.layers[20:]:\n",
        "    layer.trainable=True"
      ],
      "execution_count": 0,
      "outputs": []
    },
    {
      "cell_type": "code",
      "metadata": {
        "id": "R1ey1LiN2mnI",
        "colab_type": "code",
        "colab": {}
      },
      "source": [
        "train_datagen=ImageDataGenerator(preprocessing_function=preprocess_input)"
      ],
      "execution_count": 0,
      "outputs": []
    },
    {
      "cell_type": "code",
      "metadata": {
        "id": "WHbYbox720pL",
        "colab_type": "code",
        "outputId": "b1f2494f-1b30-4dee-93fe-d44f8877d247",
        "colab": {
          "base_uri": "https://localhost:8080/",
          "height": 54
        }
      },
      "source": [
        "train_generator=train_datagen.flow_from_directory('downloads',\n",
        "                                                 target_size=(224,224),\n",
        "                                                 color_mode='rgb',\n",
        "                                                 batch_size=32,\n",
        "                                                 class_mode='categorical',\n",
        "                                                 shuffle=True)"
      ],
      "execution_count": 0,
      "outputs": [
        {
          "output_type": "stream",
          "text": [
            "Found 179 images belonging to 2 classes.\n"
          ],
          "name": "stdout"
        }
      ]
    },
    {
      "cell_type": "code",
      "metadata": {
        "id": "7pXuc3T33NAK",
        "colab_type": "code",
        "outputId": "5777ab16-392a-4733-f9e0-31ece3fef18d",
        "colab": {
          "base_uri": "https://localhost:8080/",
          "height": 72
        }
      },
      "source": [
        "model.compile(optimizer='Adam',loss='categorical_crossentropy',metrics=['accuracy'])"
      ],
      "execution_count": 0,
      "outputs": [
        {
          "output_type": "stream",
          "text": [
            "WARNING:tensorflow:From /usr/local/lib/python3.6/dist-packages/keras/optimizers.py:793: The name tf.train.Optimizer is deprecated. Please use tf.compat.v1.train.Optimizer instead.\n",
            "\n"
          ],
          "name": "stdout"
        }
      ]
    },
    {
      "cell_type": "code",
      "metadata": {
        "id": "trQiXUzF3dQq",
        "colab_type": "code",
        "outputId": "de9143ba-b0a0-439b-ca53-a42e20ffd556",
        "colab": {
          "base_uri": "https://localhost:8080/",
          "height": 461
        }
      },
      "source": [
        "step_size_train=train_generator.n//train_generator.batch_size\n",
        "model.fit_generator(generator=train_generator,\n",
        "                   steps_per_epoch=step_size_train,\n",
        "                   epochs=10)"
      ],
      "execution_count": 0,
      "outputs": [
        {
          "output_type": "stream",
          "text": [
            "WARNING:tensorflow:From /usr/local/lib/python3.6/dist-packages/tensorflow/python/ops/math_grad.py:1250: add_dispatch_support.<locals>.wrapper (from tensorflow.python.ops.array_ops) is deprecated and will be removed in a future version.\n",
            "Instructions for updating:\n",
            "Use tf.where in 2.0, which has the same broadcast rule as np.where\n",
            "Epoch 1/10\n",
            "5/5 [==============================] - 8s 2s/step - loss: 1.0460 - acc: 0.6754\n",
            "Epoch 2/10\n",
            "5/5 [==============================] - 4s 751ms/step - loss: 0.0667 - acc: 0.9750\n",
            "Epoch 3/10\n",
            "5/5 [==============================] - 3s 671ms/step - loss: 0.0033 - acc: 1.0000\n",
            "Epoch 4/10\n",
            "5/5 [==============================] - 4s 728ms/step - loss: 1.6834e-04 - acc: 1.0000\n",
            "Epoch 5/10\n",
            "5/5 [==============================] - 4s 747ms/step - loss: 0.0072 - acc: 0.9937\n",
            "Epoch 6/10\n",
            "5/5 [==============================] - 4s 810ms/step - loss: 5.5763e-04 - acc: 1.0000\n",
            "Epoch 7/10\n",
            "5/5 [==============================] - 4s 846ms/step - loss: 2.3337e-05 - acc: 1.0000\n",
            "Epoch 8/10\n",
            "5/5 [==============================] - 3s 692ms/step - loss: 4.2381e-06 - acc: 1.0000\n",
            "Epoch 9/10\n",
            "5/5 [==============================] - 4s 777ms/step - loss: 3.5621e-06 - acc: 1.0000\n",
            "Epoch 10/10\n",
            "5/5 [==============================] - 4s 836ms/step - loss: 4.1363e-04 - acc: 1.0000\n"
          ],
          "name": "stdout"
        },
        {
          "output_type": "execute_result",
          "data": {
            "text/plain": [
              "<keras.callbacks.History at 0x7effac24f6a0>"
            ]
          },
          "metadata": {
            "tags": []
          },
          "execution_count": 27
        }
      ]
    },
    {
      "cell_type": "code",
      "metadata": {
        "id": "5QDxjl0h4Mon",
        "colab_type": "code",
        "colab": {}
      },
      "source": [
        "def load_image(img_path, show=False):\n",
        "\n",
        "    img = image.load_img(img_path, target_size=(150, 150))\n",
        "    img_tensor = image.img_to_array(img)                    # (height, width, channels)\n",
        "    img_tensor = np.expand_dims(img_tensor, axis=0)         # (1, height, width, channels), add a dimension because the model expects this shape: (batch_size, height, width, channels)\n",
        "    img_tensor /= 255.                                      # imshow expects values in the range [0, 1]\n",
        "\n",
        "    if show:\n",
        "        plt.imshow(img_tensor[0])                           \n",
        "        plt.axis('off')\n",
        "        plt.show()\n",
        "\n",
        "    return img_tensor"
      ],
      "execution_count": 0,
      "outputs": []
    },
    {
      "cell_type": "code",
      "metadata": {
        "id": "hdhkoFiM5JYm",
        "colab_type": "code",
        "outputId": "cb3a5aad-d612-4f7d-944f-c87ff16ca0e9",
        "colab": {
          "base_uri": "https://localhost:8080/",
          "height": 54
        }
      },
      "source": [
        "img_path = '1_hYFLVztlCuZgK1pd3cKofw.jpeg'\n",
        "new_image = load_image(img_path)\n",
        "\n",
        "pred = model.predict(new_image)\n",
        "\n",
        "pred"
      ],
      "execution_count": 0,
      "outputs": [
        {
          "output_type": "execute_result",
          "data": {
            "text/plain": [
              "array([[1.0000000e+00, 3.6195013e-20]], dtype=float32)"
            ]
          },
          "metadata": {
            "tags": []
          },
          "execution_count": 29
        }
      ]
    },
    {
      "cell_type": "code",
      "metadata": {
        "id": "WMhwx69v5uHS",
        "colab_type": "code",
        "outputId": "e8aead86-1b5d-48be-d596-8d68b08bbdaa",
        "colab": {
          "base_uri": "https://localhost:8080/",
          "height": 257
        }
      },
      "source": [
        "Image(filename='1_hYFLVztlCuZgK1pd3cKofw.jpeg')"
      ],
      "execution_count": 0,
      "outputs": [
        {
          "output_type": "execute_result",
          "data": {
            "image/jpeg": "[encoded data removed]",
            "text/plain": [
              "<IPython.core.display.Image object>"
            ]
          },
          "metadata": {
            "tags": []
          },
          "execution_count": 30
        }
      ]
    },
    {
      "cell_type": "code",
      "metadata": {
        "id": "zX9zcTdt6vv2",
        "colab_type": "code",
        "colab": {}
      },
      "source": [
        "preprocessed_image = prepare_image('1_hYFLVztlCuZgK1pd3cKofw.jpeg')"
      ],
      "execution_count": 0,
      "outputs": []
    },
    {
      "cell_type": "code",
      "metadata": {
        "id": "tfh1WIKd69wu",
        "colab_type": "code",
        "outputId": "8a8a793e-999a-4087-81b7-21e9fd93f92f",
        "colab": {
          "base_uri": "https://localhost:8080/",
          "height": 125
        }
      },
      "source": [
        "predictions = mobile.predict(preprocessed_image)\n",
        "results = imagenet_utils.decode_predictions(predictions)\n",
        "results"
      ],
      "execution_count": 0,
      "outputs": [
        {
          "output_type": "execute_result",
          "data": {
            "text/plain": [
              "[[('n01592084', 'chickadee', 0.9979674),\n",
              "  ('n01530575', 'brambling', 0.00090178056),\n",
              "  ('n01601694', 'water_ouzel', 0.00035124228),\n",
              "  ('n01560419', 'bulbul', 0.0002842597),\n",
              "  ('n01824575', 'coucal', 0.0002064648)]]"
            ]
          },
          "metadata": {
            "tags": []
          },
          "execution_count": 32
        }
      ]
    }
  ]
}