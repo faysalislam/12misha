{
  "nbformat": 4,
  "nbformat_minor": 0,
  "metadata": {
    "colab": {
      "name": "Untitled",
      "provenance": [],
      "collapsed_sections": [],
      "include_colab_link": true
    },
    "kernelspec": {
      "name": "python3",
      "display_name": "Python 3"
    },
    "accelerator": "GPU"
  },
  "cells": [
    {
      "cell_type": "markdown",
      "metadata": {
        "id": "view-in-github",
        "colab_type": "text"
      },
      "source": [
        "<a href=\"https://colab.research.google.com/github/faysalislam/12misha/blob/master/Untitled.ipynb\" target=\"_parent\"><img src=\"https://colab.research.google.com/assets/colab-badge.svg\" alt=\"Open In Colab\"/></a>"
      ]
    },
    {
      "cell_type": "code",
      "metadata": {
        "id": "OszCugAOTt2r",
        "colab_type": "code",
        "outputId": "d60dae29-b63d-4a73-edde-58e5709cd029",
        "colab": {
          "base_uri": "https://localhost:8080/",
          "height": 34
        }
      },
      "source": [
        "import keras\n",
        "from keras import backend as K\n",
        "from keras.layers.core import Dense, Activation\n",
        "from keras.optimizers import Adam\n",
        "from keras.metrics import categorical_crossentropy\n",
        "from keras.preprocessing.image import ImageDataGenerator\n",
        "from keras.preprocessing import image\n",
        "from keras.models import Model\n",
        "from keras.applications import imagenet_utils\n",
        "from keras.layers import Dense,GlobalAveragePooling2D\n",
        "from keras.applications import MobileNet\n",
        "from keras.applications.mobilenet import preprocess_input\n",
        "import numpy as np\n",
        "from IPython.display import Image\n",
        "from keras.optimizers import Adam"
      ],
      "execution_count": 0,
      "outputs": [
        {
          "output_type": "stream",
          "text": [
            "Using TensorFlow backend.\n"
          ],
          "name": "stderr"
        }
      ]
    },
    {
      "cell_type": "code",
      "metadata": {
        "id": "P9KEUcGSUYkt",
        "colab_type": "code",
        "outputId": "7f4ceb35-102f-4526-b0d2-8a630c27c0de",
        "colab": {
          "base_uri": "https://localhost:8080/",
          "height": 337
        }
      },
      "source": [
        "mobile = keras.applications.mobilenet.MobileNet()"
      ],
      "execution_count": 0,
      "outputs": [
        {
          "output_type": "stream",
          "text": [
            "WARNING:tensorflow:From /usr/local/lib/python3.6/dist-packages/keras/backend/tensorflow_backend.py:66: The name tf.get_default_graph is deprecated. Please use tf.compat.v1.get_default_graph instead.\n",
            "\n",
            "WARNING:tensorflow:From /usr/local/lib/python3.6/dist-packages/keras/backend/tensorflow_backend.py:541: The name tf.placeholder is deprecated. Please use tf.compat.v1.placeholder instead.\n",
            "\n",
            "WARNING:tensorflow:From /usr/local/lib/python3.6/dist-packages/keras/backend/tensorflow_backend.py:4432: The name tf.random_uniform is deprecated. Please use tf.random.uniform instead.\n",
            "\n",
            "WARNING:tensorflow:From /usr/local/lib/python3.6/dist-packages/keras/backend/tensorflow_backend.py:190: The name tf.get_default_session is deprecated. Please use tf.compat.v1.get_default_session instead.\n",
            "\n",
            "WARNING:tensorflow:From /usr/local/lib/python3.6/dist-packages/keras/backend/tensorflow_backend.py:197: The name tf.ConfigProto is deprecated. Please use tf.compat.v1.ConfigProto instead.\n",
            "\n",
            "WARNING:tensorflow:From /usr/local/lib/python3.6/dist-packages/keras/backend/tensorflow_backend.py:2041: The name tf.nn.fused_batch_norm is deprecated. Please use tf.compat.v1.nn.fused_batch_norm instead.\n",
            "\n",
            "WARNING:tensorflow:From /usr/local/lib/python3.6/dist-packages/keras/backend/tensorflow_backend.py:3733: calling dropout (from tensorflow.python.ops.nn_ops) with keep_prob is deprecated and will be removed in a future version.\n",
            "Instructions for updating:\n",
            "Please use `rate` instead of `keep_prob`. Rate should be set to `rate = 1 - keep_prob`.\n",
            "Downloading data from https://github.com/fchollet/deep-learning-models/releases/download/v0.6/mobilenet_1_0_224_tf.h5\n",
            "17227776/17225924 [==============================] - 3s 0us/step\n"
          ],
          "name": "stdout"
        }
      ]
    },
    {
      "cell_type": "code",
      "metadata": {
        "id": "rgs81cloUicA",
        "colab_type": "code",
        "colab": {}
      },
      "source": [
        "def prepare_image(file):\n",
        "    img_path = ''\n",
        "    img = image.load_img(img_path + file, target_size=(224, 224))\n",
        "    img_array = image.img_to_array(img)\n",
        "    img_array_expanded_dims = np.expand_dims(img_array, axis=0)\n",
        "    return keras.applications.mobilenet.preprocess_input(img_array_expanded_dims)"
      ],
      "execution_count": 0,
      "outputs": []
    },
    {
      "cell_type": "code",
      "metadata": {
        "id": "CPA7_ROeUxTw",
        "colab_type": "code",
        "outputId": "efc5f256-a6f9-4922-9a74-c3031e1c9918",
        "colab": {
          "base_uri": "https://localhost:8080/",
          "height": 205
        }
      },
      "source": [
        "Image(filename='download.jpeg')"
      ],
      "execution_count": 0,
      "outputs": [
        {
          "output_type": "execute_result",
          "data": {
            "image/jpeg": "[encoded data removed]",
            "text/plain": [
              "<IPython.core.display.Image object>"
            ]
          },
          "metadata": {
            "tags": []
          },
          "execution_count": 7
        }
      ]
    },
    {
      "cell_type": "code",
      "metadata": {
        "id": "VNs6UuIvU8Aw",
        "colab_type": "code",
        "colab": {}
      },
      "source": [
        "preprocessed_image = prepare_image('download.jpeg')"
      ],
      "execution_count": 0,
      "outputs": []
    },
    {
      "cell_type": "code",
      "metadata": {
        "id": "HUaHJBgPVFzK",
        "colab_type": "code",
        "outputId": "aac15d29-34aa-47c1-9453-02281716ca15",
        "colab": {
          "base_uri": "https://localhost:8080/",
          "height": 160
        }
      },
      "source": [
        "predictions = mobile.predict(preprocessed_image)\n",
        "results = imagenet_utils.decode_predictions(predictions)\n",
        "results"
      ],
      "execution_count": 0,
      "outputs": [
        {
          "output_type": "stream",
          "text": [
            "Downloading data from https://storage.googleapis.com/download.tensorflow.org/data/imagenet_class_index.json\n",
            "40960/35363 [==================================] - 0s 0us/step\n"
          ],
          "name": "stdout"
        },
        {
          "output_type": "execute_result",
          "data": {
            "text/plain": [
              "[[('n02504013', 'Indian_elephant', 0.8668082),\n",
              "  ('n01871265', 'tusker', 0.12695096),\n",
              "  ('n02504458', 'African_elephant', 0.006185748),\n",
              "  ('n02395406', 'hog', 1.6764272e-05),\n",
              "  ('n02397096', 'warthog', 1.053766e-05)]]"
            ]
          },
          "metadata": {
            "tags": []
          },
          "execution_count": 9
        }
      ]
    },
    {
      "cell_type": "code",
      "metadata": {
        "id": "kgq0jyBXVN0w",
        "colab_type": "code",
        "outputId": "5a5282c4-1046-4d4b-f846-4499eff750b2",
        "colab": {
          "base_uri": "https://localhost:8080/",
          "height": 1000
        }
      },
      "source": [
        "!pip3 install google_images_download\n",
        "from google_images_download import google_images_download\n",
        "response = google_images_download.googleimagesdownload()\n",
        "arguments = {\"keywords\":\"blue tit\",\"limit\":100,\"print_urls\":False,\"format\":\"jpg\", \"size\":\">400*300\"}\n",
        "paths = response.download(arguments)\n",
        "arguments = {\"keywords\":\"crow\",\"limit\":100,\"print_urls\":False, \"format\":\"jpg\", \"size\":\">400*300\"}\n",
        "paths = response.download(arguments)"
      ],
      "execution_count": 0,
      "outputs": [
        {
          "output_type": "stream",
          "text": [
            "Collecting google_images_download\n",
            "  Downloading https://files.pythonhosted.org/packages/18/ed/0319d30c48f3653802da8e6dcfefcea6370157d10d566ef6807cceb5ec4d/google_images_download-2.8.0.tar.gz\n",
            "Collecting selenium (from google_images_download)\n",
            "\u001b[?25l  Downloading https://files.pythonhosted.org/packages/80/d6/4294f0b4bce4de0abf13e17190289f9d0613b0a44e5dd6a7f5ca98459853/selenium-3.141.0-py2.py3-none-any.whl (904kB)\n",
            "\u001b[K     |████████████████████████████████| 911kB 4.2MB/s \n",
            "\u001b[?25hRequirement already satisfied: urllib3 in /usr/local/lib/python3.6/dist-packages (from selenium->google_images_download) (1.24.3)\n",
            "Building wheels for collected packages: google-images-download\n",
            "  Building wheel for google-images-download (setup.py) ... \u001b[?25l\u001b[?25hdone\n",
            "  Created wheel for google-images-download: filename=google_images_download-2.8.0-py2.py3-none-any.whl size=14550 sha256=c0532189e6f8631f62c67461a0f39ba1fcdd8d970aa102b1892a9211884e306b\n",
            "  Stored in directory: /root/.cache/pip/wheels/1f/28/ad/f56e7061e1d2a9a1affe2f9c649c2570cb9198dd24ede0bbab\n",
            "Successfully built google-images-download\n",
            "Installing collected packages: selenium, google-images-download\n",
            "Successfully installed google-images-download-2.8.0 selenium-3.141.0\n",
            "\n",
            "Item no.: 1 --> Item name = blue tit\n",
            "Evaluating...\n",
            "Starting Download...\n",
            "Completed Image ====> 1.Eurasian_blue_tit_Lancashire.jpg\n",
            "Completed Image ====> 2.21-facts-on-blue-tit-i1.jpg\n",
            "Completed Image ====> 3.blue-tit_adult_1200x675.jpg\n",
            "Completed Image ====> 4.Bluetit%20%C2%A9%20Dave%20Kilbey.jpg\n",
            "Wrong image format returned. Skipping...\n",
            "Completed Image ====> 5.blue_tit.jpg\n",
            "Completed Image ====> 6.tit-909894.jpg\n",
            "Completed Image ====> 7.2019-02-13_wex_47937837_I1.JPG\n",
            "Completed Image ====> 8.bluetit768.jpg\n",
            "Completed Image ====> 9.Blue-tit-in-the-rain.jpg\n",
            "Completed Image ====> 10.Blue_tit_looking_smart-min_1.jpg\n",
            "URLError on an image...trying next one... Error: <urlopen error [SSL: CERTIFICATE_VERIFY_FAILED] certificate verify failed (_ssl.c:852)>\n",
            "Completed Image ====> 11.blue-tit.jpg\n",
            "Wrong image format returned. Skipping...\n",
            "Completed Image ====> 12.1070042-blue-tit-crop.jpg\n",
            "Completed Image ====> 13.Blue%20tit%203.JPG\n",
            "Completed Image ====> 14.blue_tit_1.jpg\n",
            "Wrong image format returned. Skipping...\n",
            "Completed Image ====> 15.Birds-and-Bees_1569.jpg\n",
            "Completed Image ====> 16.Blue-Tit-image.jpg\n",
            "Completed Image ====> 17.blue+tit.jpg\n",
            "Completed Image ====> 18.fa52d54c9cc105d6b476-featuredImage.jpg\n",
            "Completed Image ====> 19.Blue-Tit.jpg\n",
            "Completed Image ====> 20.img_8184.jpg\n",
            "Completed Image ====> 21.blue-tit-1_robert_canis.jpg\n",
            "Completed Image ====> 22.01-Paul-Sutton-Blue-Tit-2.jpg\n",
            "Completed Image ====> 23.BlueTit-D0104.jpg\n",
            "Completed Image ====> 24.BlueTit2.jpg\n",
            "Completed Image ====> 25.555x555_0017_bluetit.jpg\n",
            "Completed Image ====> 26.21-facts-on-blue-tit-i2.jpg\n",
            "Completed Image ====> 27.3a4b262ea30c6b91ea5b5ca642015bb3.jpg\n",
            "Completed Image ====> 28.ParusCaeruleus.jpg\n",
            "Completed Image ====> 29.hqdefault.jpg\n",
            "Completed Image ====> 30.blue-tit-side-on-d-johnson-wtml.jpg\n",
            "Wrong image format returned. Skipping...\n",
            "Wrong image format returned. Skipping...\n",
            "Completed Image ====> 31.blue-tit-5.jpg\n",
            "Completed Image ====> 32.1040833.jpg\n",
            "Completed Image ====> 33.g2d5wdj8-1354248382.jpg\n",
            "Completed Image ====> 34.blue-tit-front-on-r-norton-wtml.jpg\n",
            "Wrong image format returned. Skipping...\n",
            "Completed Image ====> 35.25927759066_e2b97e8fda_b.jpg\n",
            "Completed Image ====> 36.1bluetit2012b.jpg\n",
            "Completed Image ====> 37.pimpelmeesm-442x315.jpg\n",
            "Completed Image ====> 38.blue-tit-lisa-lloyd.jpg\n",
            "Completed Image ====> 39.blue_tit_5.jpg\n",
            "Completed Image ====> 40.2376101-bigthumbnail.jpg\n",
            "Completed Image ====> 41.BlueTit.jpg\n",
            "Completed Image ====> 42._106788277_mediaitem106786742.jpg\n",
            "Completed Image ====> 43.article-0-1205D523000005DC-402_308x185.jpg\n",
            "Completed Image ====> 44.blue-tit-smaller-1024x821.jpg\n",
            "Completed Image ====> 45.1280px-Young_Blue_Tit_(29093148486)_Morffewew.jpg\n",
            "Completed Image ====> 46.Stunned-Blue-Tit.jpg\n",
            "Wrong image format returned. Skipping...\n",
            "Completed Image ====> 47.946a0beeef970a7c4ebc7f774e96d904.jpg\n",
            "Completed Image ====> 48.british-garden-birds-tit-family-53c2eb09c22cb.jpg\n",
            "Completed Image ====> 49.maxresdefault.jpg\n",
            "Completed Image ====> 50.86a38488-d12c-4486-915d-a548ca6627d3.jpg\n",
            "Completed Image ====> 51.35543476106_7a596861b8_b.jpg\n",
            "Completed Image ====> 52.TOFIN31-LA-Blue-Tit-finger-puppet_20x20.jpg\n",
            "Completed Image ====> 53.008-1-Blue-Tit,medium.2x.1556718660.jpg\n",
            "Completed Image ====> 54.Albino%20blue%20tit.jpg\n",
            "Completed Image ====> 55.femaleblueti.jpg\n",
            "Completed Image ====> 56.image355.jpg\n",
            "Completed Image ====> 57.3web.jpg\n",
            "Completed Image ====> 58.blue-tit-autumn-m-barton-wtml.jpg\n",
            "Completed Image ====> 59.Blue%20Tit%2088%20cpt%20Bob%20Coyle.jpg\n",
            "Completed Image ====> 60.P7031255-758x530.jpg\n",
            "Completed Image ====> 61.874-1_1024x1024@2x.jpg\n",
            "URLError on an image...trying next one... Error: HTTP Error 503: Service Unavailable: Back-end server is at capacity\n",
            "Completed Image ====> 62.17924-Blue-tit-alighting-sequence.jpg\n",
            "Completed Image ====> 63.p01ngyv4.jpg\n",
            "Completed Image ====> 64.african_blue_tit_2.jpg\n",
            "Completed Image ====> 65.20180306_133325_resized.jpg\n",
            "Completed Image ====> 66.Blue-tit-1196903.jpg\n",
            "Completed Image ====> 67.F5A0494.jpg\n",
            "Completed Image ====> 68.SAM_1890_1024x1024.jpg\n",
            "Completed Image ====> 69.A_bald_blue_tit_with_mite.jpg\n",
            "Completed Image ====> 70.46292197-flying-blue-tit-parus-caeruleus-in-autumn-moscow-region-russia.jpg\n",
            "Completed Image ====> 71.000110-blue-tit-edmund-fellowes.jpg\n",
            "Completed Image ====> 72.Leucistic-Tit.jpg\n",
            "Completed Image ====> 73.42618112102_cbb1c7efcc_b.jpg\n",
            "Completed Image ====> 74.874-3_1024x1024@2x.jpg\n",
            "Completed Image ====> 75.155660_720.jpg\n",
            "Wrong image format returned. Skipping...\n",
            "Completed Image ====> 76.blue-tit-3870309__340.jpg\n",
            "Completed Image ====> 77.Blue-tit.jpg\n",
            "Completed Image ====> 78.17070187-origpic-88a26e.jpg\n",
            "Completed Image ====> 79.maxresdefault.jpg\n",
            "Completed Image ====> 80.Bluetit-square.jpg\n",
            "Completed Image ====> 81.pimpelmees1.jpg\n",
            "Completed Image ====> 82.Blue-tit-%C2%A9-Richard-Hebb.jpg\n",
            "Completed Image ====> 83.161012-blue-tit-2-e1479038251209.jpg\n",
            "Completed Image ====> 84.Cyanistes_caeruleus_-Gran_Canaria%2C_Canary_Islands%2C_Spain-8.jpg\n",
            "Completed Image ====> 85.17ba4b04-6d75-460d-a431-546b0d24c174.jpg\n",
            "Completed Image ====> 86.bt.jpg\n",
            "Completed Image ====> 87.gafmx24nwpz21.jpg\n",
            "Completed Image ====> 88.m4ttikus-blue-tit-puffed.jpg\n",
            "Completed Image ====> 89.blue-tit-on-branch-p-holmes-wtml.jpg\n",
            "Completed Image ====> 90.Bluetit-bird-guide-%E2%80%93-Albert-E-James-and-Sons-900x600.jpg\n",
            "\n",
            "\n",
            "Unfortunately all 100 could not be downloaded because some images were not downloadable. 90 is all we got for this search filter!\n",
            "\n",
            "Errors: 10\n",
            "\n",
            "\n",
            "Item no.: 1 --> Item name = crow\n",
            "Evaluating...\n",
            "Starting Download...\n",
            "Completed Image ====> 1.Corvus_corone_-near_Canford_Cliffs%2C_Poole%2C_England-8.jpg\n",
            "Completed Image ====> 2.59858041-480px.jpg\n",
            "Wrong image format returned. Skipping...\n",
            "Completed Image ====> 3.dsc_1028.jpg\n",
            "Completed Image ====> 4.59858031-480px.jpg\n",
            "Completed Image ====> 5.Fish_Crow_RWSinclair_FlickrCC_314.jpg\n",
            "Completed Image ====> 6.504722-istock-596055082.jpg\n",
            "Completed Image ====> 7.American-Crow2_cuatrok77_flickr_Web.jpg\n",
            "Completed Image ====> 8.15352222_web1_Mabel-Dec-19-18.jpg\n",
            "Completed Image ====> 9.5900070063_931f05fdb9_b.jpg\n",
            "Wrong image format returned. Skipping...\n",
            "Completed Image ====> 10.20TB-CROWS-articleLarge-v2.jpg\n",
            "Wrong image format returned. Skipping...\n",
            "Wrong image format returned. Skipping...\n",
            "Completed Image ====> 11.AmericanCrow_PaulPowers_500px.jpg\n",
            "Completed Image ====> 12.AmericanCrow.jpg\n",
            "Completed Image ====> 13.Sharma_AMCR.jpg\n",
            "Completed Image ====> 14.crow-in-field.jpg\n",
            "Completed Image ====> 15.RavenCrow-Main-1280x600.jpg\n",
            "Completed Image ====> 16.american-crow_thumb.JPG\n",
            "Completed Image ====> 17.In-crow-raven-conflict-crows-are-almost-always-the-aggressor.jpg\n",
            "Completed Image ====> 18.web_americancrow_10-26-2015-046-adult.jpg\n",
            "Completed Image ====> 19.crows-ravens.jpg\n",
            "Completed Image ====> 20.2CB7FC82-96AD-4536-B81ADD1C352A0370_source.jpg\n",
            "Completed Image ====> 21.10022222_H11703043-600x657.jpg\n",
            "Completed Image ====> 22.House-Crow444.jpg\n",
            "Completed Image ====> 23.crow.jpg\n",
            "IOError on an image...trying next one... Error: The read operation timed out\n",
            "Completed Image ====> 24._96723054_0d6ac4ea-ab1b-4700-ada9-4632cbea4908.jpg\n",
            "Completed Image ====> 25.GTW4NCEO27S2EROSZMXAJB27XQ.jpg\n",
            "IOError on an image...trying next one... Error: The read operation timed out\n",
            "Completed Image ====> 26.American-crow.jpg\n",
            "Completed Image ====> 27.crow-2843316_1920-e1528924370852.jpg\n",
            "Completed Image ====> 28.GettyImages-571342903-5a495f2d482c52003608a6d3.jpg\n",
            "Completed Image ====> 29.crow.jpg\n",
            "Wrong image format returned. Skipping...\n",
            "Completed Image ====> 30.cbzosgavs2fk9kdouljc.jpg\n",
            "Completed Image ====> 31.dsc_1125.jpg\n",
            "Completed Image ====> 32.5d1286992516e958277fdd60-750-563.jpg\n",
            "Completed Image ====> 33.8634_bb57db42f77807a9c5823bd8c2d9aaef.jpg\n",
            "Wrong image format returned. Skipping...\n",
            "Completed Image ====> 34.istock-504373420.jpg\n",
            "Completed Image ====> 35.a1_4202_1_fish-crow_alejandra_lewandowski_kk.jpg\n",
            "Completed Image ====> 36.2018-Crow-American-Edgar-by-Heidi-004-1024x683.jpg\n",
            "Completed Image ====> 37.PqHzRT5FnGPSoEUMfmGSWH.jpg\n",
            "Completed Image ====> 38.Rook_at_Slimbridge_Wetland_Centre%2C_Gloucestershire%2C_England_22May2019_arp.jpg\n",
            "Completed Image ====> 39.6543952555_b4cd4d975c_b.jpg\n",
            "Completed Image ====> 40.8cd51f_f0ff1bb9d82b48ba9c8f770c033e23e6~mv2.jpg\n",
            "Completed Image ====> 41.GettyImages-925504336.jpg\n",
            "Completed Image ====> 42.Carrion-crow-Corvus-corone.jpg\n",
            "Completed Image ====> 43.shutterstock-593418365.jpg\n",
            "Completed Image ====> 44.crow-Jones.jpg\n",
            "Completed Image ====> 45.bird-crow.jpg\n",
            "Completed Image ====> 46.2-newcaledonia.jpg\n",
            "Completed Image ====> 47.crow_with_crab_cropped.jpg\n",
            "Completed Image ====> 48.crows1.JPG\n",
            "Wrong image format returned. Skipping...\n",
            "Wrong image format returned. Skipping...\n",
            "Completed Image ====> 49.crow-netherlands-innovative-start-up.jpg\n",
            "Completed Image ====> 50.crow-1024x768-MKalbach.jpg\n",
            "Completed Image ====> 51.tawny-eagle-and-cape-crow.jpg\n",
            "Completed Image ====> 52.DhsNcCZXcAcEhKHpiedcrow.jpg\n",
            "Completed Image ====> 53.crow_ElangovanS_623-b3f08f0.jpg\n",
            "Completed Image ====> 54.gettyimages-557394757.jpg\n",
            "Completed Image ====> 55.20081021-7274.jpg\n",
            "Completed Image ====> 56.Crow-and-tool-2.jpg\n",
            "Completed Image ====> 57.2710851-1600x1063.jpg\n",
            "Completed Image ====> 58._99701258_caledoniancrow.jpg\n",
            "Completed Image ====> 59.dsc_1944.jpg\n",
            "Completed Image ====> 60.Carrion-Crow-by-Geoff-Whalan.jpg\n",
            "Completed Image ====> 61.Crow-2-650x425.jpg\n",
            "Wrong image format returned. Skipping...\n",
            "Completed Image ====> 62..jpg\n",
            "Completed Image ====> 63.crows-and-ravens02.jpg\n",
            "Wrong image format returned. Skipping...\n",
            "Completed Image ====> 64.gettyimages-581737781.jpg\n",
            "Completed Image ====> 65.51M4xlr6C4L._SX425_.jpg\n",
            "Completed Image ====> 66.maxresdefault.jpg\n",
            "Completed Image ====> 67.banded_at_fill.jpg\n",
            "Completed Image ====> 68.01ZIMMER-articleLarge.jpg\n",
            "Completed Image ====> 69.american-crow-5a44244c845b3400379b0163.jpg\n",
            "Wrong image format returned. Skipping...\n",
            "Completed Image ====> 70.20140613__20140614_C2_FE14AHBIRDERp1.jpg\n",
            "Completed Image ====> 71.Fig-1-American-crow.jpg\n",
            "Completed Image ====> 72.Corvus-brachyrhynchos-001.jpg\n",
            "Completed Image ====> 73.crow-1.jpg\n",
            "Completed Image ====> 74.cmaciejolszewski-shutterstock-turkey-crow-2.jpg\n",
            "Completed Image ====> 75.426323-480px.jpg\n",
            "Completed Image ====> 76.KS_blueeye.jpg\n",
            "Completed Image ====> 77.Mr_Pants_crop_large.jpg\n",
            "Wrong image format returned. Skipping...\n",
            "Completed Image ====> 78.crow_burger.width-800.jpg\n",
            "Completed Image ====> 79.hooded-crow-strut_600.jpg\n",
            "Completed Image ====> 80.59858051-1280px.jpg\n",
            "Completed Image ====> 81.14477620_f520.jpg\n",
            "Completed Image ====> 82.12227703_web1_crowattack3.jpg\n",
            "Completed Image ====> 83.corbeau-pose-de-chet-dans-double-tiroir_photo-4a_wide-fd7f49ab0921c90eb581d670af94c4a20244ac35-s800-c85.jpg\n",
            "Wrong image format returned. Skipping...\n",
            "Completed Image ====> 84.17101976_web1_190706-AUB-crow.jpg\n",
            "Completed Image ====> 85.crow.jpg\n",
            "\n",
            "\n",
            "Unfortunately all 100 could not be downloaded because some images were not downloadable. 85 is all we got for this search filter!\n",
            "\n",
            "Errors: 15\n",
            "\n"
          ],
          "name": "stdout"
        }
      ]
    },
    {
      "cell_type": "code",
      "metadata": {
        "id": "CDRDgqOvVkVC",
        "colab_type": "code",
        "outputId": "888d420a-56df-4c90-9a3f-0e608bcb9f23",
        "colab": {
          "base_uri": "https://localhost:8080/",
          "height": 107
        }
      },
      "source": [
        "base_model=MobileNet(weights='imagenet',include_top=False)"
      ],
      "execution_count": 0,
      "outputs": [
        {
          "output_type": "stream",
          "text": [
            "/usr/local/lib/python3.6/dist-packages/keras_applications/mobilenet.py:207: UserWarning: `input_shape` is undefined or non-square, or `rows` is not in [128, 160, 192, 224]. Weights for input shape (224, 224) will be loaded as the default.\n",
            "  warnings.warn('`input_shape` is undefined or non-square, '\n"
          ],
          "name": "stderr"
        },
        {
          "output_type": "stream",
          "text": [
            "Downloading data from https://github.com/fchollet/deep-learning-models/releases/download/v0.6/mobilenet_1_0_224_tf_no_top.h5\n",
            "17227776/17225924 [==============================] - 3s 0us/step\n"
          ],
          "name": "stdout"
        }
      ]
    },
    {
      "cell_type": "code",
      "metadata": {
        "id": "ylXZK3NCWeu6",
        "colab_type": "code",
        "colab": {}
      },
      "source": [
        "x=base_model.output\n",
        "x=GlobalAveragePooling2D()(x)\n",
        "x=Dense(1024,activation='relu')(x) #we add dense layers so that the model can learn more complex functions and classify for better results.\n",
        "x=Dense(1024,activation='relu')(x) #dense layer 2\n",
        "x=Dense(512,activation='relu')(x) #dense layer 3\n",
        "preds=Dense(2,activation='softmax')(x)"
      ],
      "execution_count": 0,
      "outputs": []
    },
    {
      "cell_type": "code",
      "metadata": {
        "id": "1WfYXw5ZWnKB",
        "colab_type": "code",
        "colab": {}
      },
      "source": [
        "model=Model(inputs=base_model.input,outputs=preds)"
      ],
      "execution_count": 0,
      "outputs": []
    },
    {
      "cell_type": "code",
      "metadata": {
        "id": "RXqFUwaeWtXO",
        "colab_type": "code",
        "outputId": "dd2cfc95-4555-4fa5-b093-4732ae618f90",
        "colab": {
          "base_uri": "https://localhost:8080/",
          "height": 1000
        }
      },
      "source": [
        "for i,layer in enumerate(model.layers):\n",
        "  print(i,layer.name)"
      ],
      "execution_count": 0,
      "outputs": [
        {
          "output_type": "stream",
          "text": [
            "0 input_2\n",
            "1 conv1_pad\n",
            "2 conv1\n",
            "3 conv1_bn\n",
            "4 conv1_relu\n",
            "5 conv_dw_1\n",
            "6 conv_dw_1_bn\n",
            "7 conv_dw_1_relu\n",
            "8 conv_pw_1\n",
            "9 conv_pw_1_bn\n",
            "10 conv_pw_1_relu\n",
            "11 conv_pad_2\n",
            "12 conv_dw_2\n",
            "13 conv_dw_2_bn\n",
            "14 conv_dw_2_relu\n",
            "15 conv_pw_2\n",
            "16 conv_pw_2_bn\n",
            "17 conv_pw_2_relu\n",
            "18 conv_dw_3\n",
            "19 conv_dw_3_bn\n",
            "20 conv_dw_3_relu\n",
            "21 conv_pw_3\n",
            "22 conv_pw_3_bn\n",
            "23 conv_pw_3_relu\n",
            "24 conv_pad_4\n",
            "25 conv_dw_4\n",
            "26 conv_dw_4_bn\n",
            "27 conv_dw_4_relu\n",
            "28 conv_pw_4\n",
            "29 conv_pw_4_bn\n",
            "30 conv_pw_4_relu\n",
            "31 conv_dw_5\n",
            "32 conv_dw_5_bn\n",
            "33 conv_dw_5_relu\n",
            "34 conv_pw_5\n",
            "35 conv_pw_5_bn\n",
            "36 conv_pw_5_relu\n",
            "37 conv_pad_6\n",
            "38 conv_dw_6\n",
            "39 conv_dw_6_bn\n",
            "40 conv_dw_6_relu\n",
            "41 conv_pw_6\n",
            "42 conv_pw_6_bn\n",
            "43 conv_pw_6_relu\n",
            "44 conv_dw_7\n",
            "45 conv_dw_7_bn\n",
            "46 conv_dw_7_relu\n",
            "47 conv_pw_7\n",
            "48 conv_pw_7_bn\n",
            "49 conv_pw_7_relu\n",
            "50 conv_dw_8\n",
            "51 conv_dw_8_bn\n",
            "52 conv_dw_8_relu\n",
            "53 conv_pw_8\n",
            "54 conv_pw_8_bn\n",
            "55 conv_pw_8_relu\n",
            "56 conv_dw_9\n",
            "57 conv_dw_9_bn\n",
            "58 conv_dw_9_relu\n",
            "59 conv_pw_9\n",
            "60 conv_pw_9_bn\n",
            "61 conv_pw_9_relu\n",
            "62 conv_dw_10\n",
            "63 conv_dw_10_bn\n",
            "64 conv_dw_10_relu\n",
            "65 conv_pw_10\n",
            "66 conv_pw_10_bn\n",
            "67 conv_pw_10_relu\n",
            "68 conv_dw_11\n",
            "69 conv_dw_11_bn\n",
            "70 conv_dw_11_relu\n",
            "71 conv_pw_11\n",
            "72 conv_pw_11_bn\n",
            "73 conv_pw_11_relu\n",
            "74 conv_pad_12\n",
            "75 conv_dw_12\n",
            "76 conv_dw_12_bn\n",
            "77 conv_dw_12_relu\n",
            "78 conv_pw_12\n",
            "79 conv_pw_12_bn\n",
            "80 conv_pw_12_relu\n",
            "81 conv_dw_13\n",
            "82 conv_dw_13_bn\n",
            "83 conv_dw_13_relu\n",
            "84 conv_pw_13\n",
            "85 conv_pw_13_bn\n",
            "86 conv_pw_13_relu\n",
            "87 global_average_pooling2d_2\n",
            "88 dense_1\n",
            "89 dense_2\n",
            "90 dense_3\n",
            "91 dense_4\n"
          ],
          "name": "stdout"
        }
      ]
    },
    {
      "cell_type": "code",
      "metadata": {
        "id": "XpK66FuxW06-",
        "colab_type": "code",
        "colab": {}
      },
      "source": [
        "for layer in model.layers:\n",
        "    layer.trainable=False\n",
        "# or if we want to set the first 20 layers of the network to be non-trainable\n",
        "for layer in model.layers[:20]:\n",
        "    layer.trainable=False\n",
        "for layer in model.layers[20:]:\n",
        "    layer.trainable=True"
      ],
      "execution_count": 0,
      "outputs": []
    },
    {
      "cell_type": "code",
      "metadata": {
        "id": "1pcIDFG_W_Sx",
        "colab_type": "code",
        "colab": {}
      },
      "source": [
        "train_datagen=ImageDataGenerator(preprocessing_function=preprocess_input) #included in our dependencies"
      ],
      "execution_count": 0,
      "outputs": []
    },
    {
      "cell_type": "code",
      "metadata": {
        "id": "0BvQIL95XINx",
        "colab_type": "code",
        "outputId": "01271986-3a30-4fe3-bb09-06ceb543a47c",
        "colab": {
          "base_uri": "https://localhost:8080/",
          "height": 54
        }
      },
      "source": [
        "train_generator=train_datagen.flow_from_directory('downloads',\n",
        "                                                 target_size=(224,224),\n",
        "                                                 color_mode='rgb',\n",
        "                                                 batch_size=32,\n",
        "                                                 class_mode='categorical',\n",
        "                                                 shuffle=True)"
      ],
      "execution_count": 0,
      "outputs": [
        {
          "output_type": "stream",
          "text": [
            "Found 175 images belonging to 2 classes.\n"
          ],
          "name": "stdout"
        }
      ]
    },
    {
      "cell_type": "code",
      "metadata": {
        "id": "TTa_YrnzXcKY",
        "colab_type": "code",
        "outputId": "5d5f0a52-6404-4a8a-d617-27edd31831d8",
        "colab": {
          "base_uri": "https://localhost:8080/",
          "height": 72
        }
      },
      "source": [
        "model.compile(optimizer='Adam',loss='categorical_crossentropy',metrics=['accuracy'])"
      ],
      "execution_count": 0,
      "outputs": [
        {
          "output_type": "stream",
          "text": [
            "WARNING:tensorflow:From /usr/local/lib/python3.6/dist-packages/keras/optimizers.py:793: The name tf.train.Optimizer is deprecated. Please use tf.compat.v1.train.Optimizer instead.\n",
            "\n"
          ],
          "name": "stdout"
        }
      ]
    },
    {
      "cell_type": "code",
      "metadata": {
        "id": "2ob8ieo9XynN",
        "colab_type": "code",
        "outputId": "2cf4e1c5-81d4-4ee3-8ebc-ae0f316ff234",
        "colab": {
          "base_uri": "https://localhost:8080/",
          "height": 390
        }
      },
      "source": [
        "step_size_train=train_generator.n//train_generator.batch_size\n",
        "model.fit_generator(generator=train_generator,\n",
        "                   steps_per_epoch=step_size_train,\n",
        "                   epochs=10)\n",
        "model.save('fine_tune.h5')"
      ],
      "execution_count": 0,
      "outputs": [
        {
          "output_type": "stream",
          "text": [
            "Epoch 1/10\n",
            "5/5 [==============================] - 5s 980ms/step - loss: 4.6896e-04 - acc: 1.0000\n",
            "Epoch 2/10\n",
            "5/5 [==============================] - 5s 985ms/step - loss: 1.5716e-04 - acc: 1.0000\n",
            "Epoch 3/10\n",
            "5/5 [==============================] - 4s 766ms/step - loss: 2.2498e-04 - acc: 1.0000\n",
            "Epoch 4/10\n",
            "5/5 [==============================] - 4s 823ms/step - loss: 3.2022e-04 - acc: 1.0000\n",
            "Epoch 5/10\n",
            "5/5 [==============================] - 4s 883ms/step - loss: 4.5587e-04 - acc: 1.0000\n",
            "Epoch 6/10\n",
            "5/5 [==============================] - 4s 876ms/step - loss: 6.9175e-07 - acc: 1.0000\n",
            "Epoch 7/10\n",
            "5/5 [==============================] - 4s 892ms/step - loss: 2.7171e-06 - acc: 1.0000\n",
            "Epoch 8/10\n",
            "5/5 [==============================] - 4s 859ms/step - loss: 3.4184e-07 - acc: 1.0000\n",
            "Epoch 9/10\n",
            "5/5 [==============================] - 5s 980ms/step - loss: 2.1541e-05 - acc: 1.0000\n",
            "Epoch 10/10\n",
            "5/5 [==============================] - 4s 739ms/step - loss: 4.3493e-07 - acc: 1.0000\n"
          ],
          "name": "stdout"
        }
      ]
    },
    {
      "cell_type": "code",
      "metadata": {
        "id": "FByKcFW2YNoD",
        "colab_type": "code",
        "outputId": "0e99b625-5bf6-427f-eb11-2418afbad7d3",
        "colab": {
          "base_uri": "https://localhost:8080/",
          "height": 34
        }
      },
      "source": [
        "ls"
      ],
      "execution_count": 4,
      "outputs": [
        {
          "output_type": "stream",
          "text": [
            "fine_tune.h5\n"
          ],
          "name": "stdout"
        }
      ]
    },
    {
      "cell_type": "code",
      "metadata": {
        "id": "MNxydYnhUHMN",
        "colab_type": "code",
        "outputId": "f1ff3432-358e-420b-96f0-403d9f6d9e96",
        "colab": {
          "resources": {
            "http://localhost:8080/nbextensions/google.colab/files.js": {
              "data": "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",
              "ok": true,
              "headers": [
                [
                  "content-type",
                  "application/javascript"
                ]
              ],
              "status": 200,
              "status_text": ""
            }
          },
          "base_uri": "https://localhost:8080/",
          "height": 469
        }
      },
      "source": [
        "from google.colab import files\n",
        "\n",
        "uploaded = files.upload()\n",
        "\n",
        "for fn in uploaded.keys():\n",
        "  print('User uploaded file \"{name}\" with length {length} bytes'.format(\n",
        "      name=fn, length=len(uploaded[fn])))"
      ],
      "execution_count": 3,
      "outputs": [
        {
          "output_type": "display_data",
          "data": {
            "text/html": [
              "\n",
              "     <input type=\"file\" id=\"files-06e7d411-9378-424e-86f1-c0493b9eb93b\" name=\"files[]\" multiple disabled />\n",
              "     <output id=\"result-06e7d411-9378-424e-86f1-c0493b9eb93b\">\n",
              "      Upload widget is only available when the cell has been executed in the\n",
              "      current browser session. Please rerun this cell to enable.\n",
              "      </output>\n",
              "      <script src=\"/nbextensions/google.colab/files.js\"></script> "
            ],
            "text/plain": [
              "<IPython.core.display.HTML object>"
            ]
          },
          "metadata": {
            "tags": []
          }
        },
        {
          "output_type": "stream",
          "text": [
            "Saving fine_tune.h5 to fine_tune.h5\n"
          ],
          "name": "stdout"
        },
        {
          "output_type": "error",
          "ename": "KeyboardInterrupt",
          "evalue": "ignored",
          "traceback": [
            "\u001b[0;31m---------------------------------------------------------------------------\u001b[0m",
            "\u001b[0;31mKeyboardInterrupt\u001b[0m                         Traceback (most recent call last)",
            "\u001b[0;32m<ipython-input-3-292f82be1b7a>\u001b[0m in \u001b[0;36m<module>\u001b[0;34m()\u001b[0m\n\u001b[1;32m      1\u001b[0m \u001b[0;32mfrom\u001b[0m \u001b[0mgoogle\u001b[0m\u001b[0;34m.\u001b[0m\u001b[0mcolab\u001b[0m \u001b[0;32mimport\u001b[0m \u001b[0mfiles\u001b[0m\u001b[0;34m\u001b[0m\u001b[0;34m\u001b[0m\u001b[0m\n\u001b[1;32m      2\u001b[0m \u001b[0;34m\u001b[0m\u001b[0m\n\u001b[0;32m----> 3\u001b[0;31m \u001b[0muploaded\u001b[0m \u001b[0;34m=\u001b[0m \u001b[0mfiles\u001b[0m\u001b[0;34m.\u001b[0m\u001b[0mupload\u001b[0m\u001b[0;34m(\u001b[0m\u001b[0;34m)\u001b[0m\u001b[0;34m\u001b[0m\u001b[0;34m\u001b[0m\u001b[0m\n\u001b[0m\u001b[1;32m      4\u001b[0m \u001b[0;34m\u001b[0m\u001b[0m\n\u001b[1;32m      5\u001b[0m \u001b[0;32mfor\u001b[0m \u001b[0mfn\u001b[0m \u001b[0;32min\u001b[0m \u001b[0muploaded\u001b[0m\u001b[0;34m.\u001b[0m\u001b[0mkeys\u001b[0m\u001b[0;34m(\u001b[0m\u001b[0;34m)\u001b[0m\u001b[0;34m:\u001b[0m\u001b[0;34m\u001b[0m\u001b[0;34m\u001b[0m\u001b[0m\n",
            "\u001b[0;32m/usr/local/lib/python3.6/dist-packages/google/colab/files.py\u001b[0m in \u001b[0;36mupload\u001b[0;34m()\u001b[0m\n\u001b[1;32m     70\u001b[0m     result = _output.eval_js(\n\u001b[1;32m     71\u001b[0m         'google.colab._files._uploadFilesContinue(\"{output_id}\")'.format(\n\u001b[0;32m---> 72\u001b[0;31m             output_id=output_id))\n\u001b[0m\u001b[1;32m     73\u001b[0m     \u001b[0;32mif\u001b[0m \u001b[0mresult\u001b[0m\u001b[0;34m[\u001b[0m\u001b[0;34m'action'\u001b[0m\u001b[0;34m]\u001b[0m \u001b[0;34m!=\u001b[0m \u001b[0;34m'append'\u001b[0m\u001b[0;34m:\u001b[0m\u001b[0;34m\u001b[0m\u001b[0;34m\u001b[0m\u001b[0m\n\u001b[1;32m     74\u001b[0m       \u001b[0;31m# JS side uses a generator of promises to process all of the files- some\u001b[0m\u001b[0;34m\u001b[0m\u001b[0;34m\u001b[0m\u001b[0;34m\u001b[0m\u001b[0m\n",
            "\u001b[0;32m/usr/local/lib/python3.6/dist-packages/google/colab/output/_js.py\u001b[0m in \u001b[0;36meval_js\u001b[0;34m(script, ignore_result)\u001b[0m\n\u001b[1;32m     37\u001b[0m   \u001b[0;32mif\u001b[0m \u001b[0mignore_result\u001b[0m\u001b[0;34m:\u001b[0m\u001b[0;34m\u001b[0m\u001b[0;34m\u001b[0m\u001b[0m\n\u001b[1;32m     38\u001b[0m     \u001b[0;32mreturn\u001b[0m\u001b[0;34m\u001b[0m\u001b[0;34m\u001b[0m\u001b[0m\n\u001b[0;32m---> 39\u001b[0;31m   \u001b[0;32mreturn\u001b[0m \u001b[0m_message\u001b[0m\u001b[0;34m.\u001b[0m\u001b[0mread_reply_from_input\u001b[0m\u001b[0;34m(\u001b[0m\u001b[0mrequest_id\u001b[0m\u001b[0;34m)\u001b[0m\u001b[0;34m\u001b[0m\u001b[0;34m\u001b[0m\u001b[0m\n\u001b[0m\u001b[1;32m     40\u001b[0m \u001b[0;34m\u001b[0m\u001b[0m\n\u001b[1;32m     41\u001b[0m \u001b[0;34m\u001b[0m\u001b[0m\n",
            "\u001b[0;32m/usr/local/lib/python3.6/dist-packages/google/colab/_message.py\u001b[0m in \u001b[0;36mread_reply_from_input\u001b[0;34m(message_id, timeout_sec)\u001b[0m\n\u001b[1;32m     99\u001b[0m     \u001b[0mreply\u001b[0m \u001b[0;34m=\u001b[0m \u001b[0m_read_next_input_message\u001b[0m\u001b[0;34m(\u001b[0m\u001b[0;34m)\u001b[0m\u001b[0;34m\u001b[0m\u001b[0;34m\u001b[0m\u001b[0m\n\u001b[1;32m    100\u001b[0m     \u001b[0;32mif\u001b[0m \u001b[0mreply\u001b[0m \u001b[0;34m==\u001b[0m \u001b[0m_NOT_READY\u001b[0m \u001b[0;32mor\u001b[0m \u001b[0;32mnot\u001b[0m \u001b[0misinstance\u001b[0m\u001b[0;34m(\u001b[0m\u001b[0mreply\u001b[0m\u001b[0;34m,\u001b[0m \u001b[0mdict\u001b[0m\u001b[0;34m)\u001b[0m\u001b[0;34m:\u001b[0m\u001b[0;34m\u001b[0m\u001b[0;34m\u001b[0m\u001b[0m\n\u001b[0;32m--> 101\u001b[0;31m       \u001b[0mtime\u001b[0m\u001b[0;34m.\u001b[0m\u001b[0msleep\u001b[0m\u001b[0;34m(\u001b[0m\u001b[0;36m0.025\u001b[0m\u001b[0;34m)\u001b[0m\u001b[0;34m\u001b[0m\u001b[0;34m\u001b[0m\u001b[0m\n\u001b[0m\u001b[1;32m    102\u001b[0m       \u001b[0;32mcontinue\u001b[0m\u001b[0;34m\u001b[0m\u001b[0;34m\u001b[0m\u001b[0m\n\u001b[1;32m    103\u001b[0m     if (reply.get('type') == 'colab_reply' and\n",
            "\u001b[0;31mKeyboardInterrupt\u001b[0m: "
          ]
        }
      ]
    }
  ]
}